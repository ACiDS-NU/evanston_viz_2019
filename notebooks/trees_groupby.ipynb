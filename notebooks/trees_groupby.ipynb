{
 "cells": [
  {
   "cell_type": "code",
   "execution_count": null,
   "metadata": {},
   "outputs": [],
   "source": [
    "import pandas as pd\n",
    "fn = '../src/data/raw/Trees_data.csv'\n",
    "tree_df = pd.read_csv(fn)\n",
    "# tree_df.sum()"
   ]
  },
  {
   "cell_type": "code",
   "execution_count": null,
   "metadata": {},
   "outputs": [],
   "source": [
    "tree_df.head().sum()"
   ]
  },
  {
   "cell_type": "code",
   "execution_count": null,
   "metadata": {},
   "outputs": [],
   "source": [
    "genus_list = pd.Series([blah[0] for blah in tree_df['Species'].str.split()]).unique()\n",
    "tree_df['Genus'] = [blah[0] for blah in tree_df['Species'].str.split()]\n",
    "tree_df['Genus'].unique()"
   ]
  },
  {
   "cell_type": "code",
   "execution_count": null,
   "metadata": {},
   "outputs": [],
   "source": [
    "tree_df.iloc[0:2792,:].to_csv('Trees_genus.csv', index=False)"
   ]
  },
  {
   "cell_type": "code",
   "execution_count": null,
   "metadata": {},
   "outputs": [],
   "source": [
    "#gb = tree_df.groupby(list(tree_df['Genus'].values))\n",
    "tree_df['idx'] = tree_df.groupby('Genus').count()\n",
    "# keep_list = ['Inventory date', 'Active']\n",
    "# tree_df.pivot(index='Genus',columns='idx')[keep_list]\n",
    "tree_df['idx']"
   ]
  }
 ],
 "metadata": {
  "kernelspec": {
   "display_name": "Python 3",
   "language": "python",
   "name": "python3"
  },
  "language_info": {
   "codemirror_mode": {
    "name": "ipython",
    "version": 3
   },
   "file_extension": ".py",
   "mimetype": "text/x-python",
   "name": "python",
   "nbconvert_exporter": "python",
   "pygments_lexer": "ipython3",
   "version": "3.7.2"
  }
 },
 "nbformat": 4,
 "nbformat_minor": 2
}
