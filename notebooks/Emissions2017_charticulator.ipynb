{
 "cells": [
  {
   "cell_type": "code",
   "execution_count": null,
   "metadata": {},
   "outputs": [],
   "source": [
    "import pandas as pd\n",
    "import numpy as np\n",
    "fn = '../src/data/raw/Community_2005-2017_Greenhouse_Gas_Emissions.csv'\n",
    "\n",
    "emissions = pd.read_csv(fn)\n",
    "emissions"
   ]
  },
  {
   "cell_type": "code",
   "execution_count": null,
   "metadata": {},
   "outputs": [],
   "source": [
    "emissions_trunc = pd.DataFrame(data=emissions.iloc[0:11])\n",
    "emissions_trunc = pd.concat([emissions_trunc, emissions.iloc[13:14]], ignore_index=True)\n",
    "emissions_trunc.index = emissions_trunc['Unnamed Column'].to_list()\n",
    "emissions_trunc.index.names = ['Source']\n",
    "emissions_trunc = emissions_trunc.replace(',','', regex=True).fillna(value=0)\n",
    "emissions_trunc = emissions_trunc.apply(pd.to_numeric, errors='coerce')\n",
    "emissions_trunc.iloc[1]= emissions_trunc.iloc[1] + emissions_trunc.iloc[2]\n",
    "emissions_trunc.iloc[3]= emissions_trunc.iloc[3] + emissions_trunc.iloc[9]\n",
    "emissions_trunc.iloc[5]= (emissions_trunc.iloc[5] + \n",
    "                          emissions_trunc.iloc[6] + \n",
    "                          emissions_trunc.iloc[7])\n",
    "small_row_names = ['Large Commercial Electricity', \n",
    "                   'Commercial Gas Consumption', \n",
    "                   'Fugitive Gas Emissions', \n",
    "                   'CTA Rail Electricty']\n",
    "emissions_trunc = emissions_trunc.drop(small_row_names)\n",
    "rename_dict = {'Small Commercial Electricity':'Commercial Electricity',\n",
    "              'Industrial Gas Consumption': 'Non-Residential Gas Consumption'}\n",
    "emissions_trunc = emissions_trunc.rename(rename_dict).iloc[:,1:]\n",
    "emissions_trunc"
   ]
  },
  {
   "cell_type": "code",
   "execution_count": null,
   "metadata": {},
   "outputs": [],
   "source": [
    "emissions_trunc.to_csv('2005-2017_Truncated.csv')"
   ]
  },
  {
   "cell_type": "code",
   "execution_count": null,
   "metadata": {},
   "outputs": [],
   "source": [
    "trunc_emissions = pd.read_csv('2005-2017_Truncated.csv')\n",
    "year_str = [str(int(blah)) for blah in np.linspace(2005, 2017, 13)]\n",
    "idx_list = trunc_emissions.index\n",
    "# idx_list\n",
    "non_totals = trunc_emissions['Source'].copy()\n",
    "non_totals[3] = 'Residential Gas'\n",
    "non_totals[4] = 'Non-Residential Gas'\n",
    "non_totals[5] = 'Mixed Vehicular Combined'\n",
    "non_totals[6] = 'Mixed Refuse Biomass'\n",
    "non_totals[7] = 'Municipal Combined'\n",
    "type_list = [list(non_totals.values),\n",
    "             [non_totals.str.split(' ')[i][-1].strip() for i in idx_list],\n",
    "             [non_totals.str.split(' ')[i][0].strip() for i in idx_list]]\n",
    "idx = pd.MultiIndex.from_arrays(type_list, names=['original', 'source', 'use'])\n",
    "len_columns = [len(trunc_emissions.columns)]\n",
    "emissions_lvld = trunc_emissions.copy()\n",
    "emissions_lvld.index = idx\n",
    "emissions_lvld.loc[:, 'id'] = np.array(np.arange(len(emissions_lvld)))\n",
    "emissions_lvld.loc[:, 'source'] = type_list[1]\n",
    "emissions_lvld.loc[:, 'use'] = type_list[2]\n",
    "emissions_long = emissions_lvld.melt(col_level=0, id_vars=['id', 'source', 'use'], value_vars=year_str, var_name='year')\n",
    "emissions_long['id'] = emissions_long.index\n",
    "emissions_long"
   ]
  },
  {
   "cell_type": "code",
   "execution_count": null,
   "metadata": {},
   "outputs": [],
   "source": [
    "len_data = len(emissions_long)\n",
    "interval = 8\n",
    "# link_data = np.array([[int(blah) for blah in np.linspace(0,len_data-interval,len_data-interval+1)], \n",
    "#                       [int(blah) for blah in np.linspace(interval,len_data,len_data-interval+1)],\n",
    "#                       emissions_long['value'].values[0:len_data-interval]]).T\n",
    "link_data = np.transpose([emissions_long['id'].values[0:len_data-interval],\n",
    "                          emissions_long['id'].values[interval:len_data],\n",
    "                          emissions_long['value'].values[interval:len_data]])\n",
    "link_df = pd.DataFrame(link_data, columns = ['source_id','target_id', 'strength'], dtype=object)\n",
    "link_df"
   ]
  },
  {
   "cell_type": "code",
   "execution_count": null,
   "metadata": {},
   "outputs": [],
   "source": [
    "emissions_long.to_csv('emissions2017_long.csv')\n",
    "link_df.to_csv('emissions2017_link.csv')"
   ]
  }
 ],
 "metadata": {
  "kernelspec": {
   "display_name": "Python 3",
   "language": "python",
   "name": "python3"
  },
  "language_info": {
   "codemirror_mode": {
    "name": "ipython",
    "version": 3
   },
   "file_extension": ".py",
   "mimetype": "text/x-python",
   "name": "python",
   "nbconvert_exporter": "python",
   "pygments_lexer": "ipython3",
   "version": "3.7.2"
  }
 },
 "nbformat": 4,
 "nbformat_minor": 2
}
