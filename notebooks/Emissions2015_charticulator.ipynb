{
 "cells": [
  {
   "cell_type": "code",
   "execution_count": null,
   "metadata": {},
   "outputs": [],
   "source": [
    "import pandas as pd\n",
    "import numpy as np\n",
    "fn = '../src/data/raw/2005-2015_Greenhouse_Gas_Emissions.csv'\n",
    "\n",
    "emissions = pd.read_csv(fn)\n",
    "trunc_emissions = emissions.iloc[5:13]\n",
    "trunc_emissions.loc[5:13, 'id'] = np.array(np.arange(len(trunc_emissions)))\n",
    "trunc_emissions"
   ]
  },
  {
   "cell_type": "code",
   "execution_count": null,
   "metadata": {},
   "outputs": [],
   "source": [
    "year_str = [str(int(blah)) for blah in np.linspace(2005, 2015, 11)]\n",
    "year_str"
   ]
  },
  {
   "cell_type": "code",
   "execution_count": null,
   "metadata": {},
   "outputs": [],
   "source": [
    "# trunc_long = pd.wide_to_long(trunc_emissions, ['20'], i=\"id\", j=\"year\")\n",
    "# trunc_long.rename(index = int)\n",
    "# trunc_long\n",
    "# Remove totals and add leveled indices \n",
    "#see https://pandas.pydata.org/pandas-docs/version/0.22/groupby.html#grouping-dataframe-with-index-levels-and-columns\n",
    "idx_list = np.linspace(5, 13, 9)[:-1]\n",
    "#non_totals = emissions['Emission Source'][idx_list]\n",
    "non_totals = trunc_emissions['Emission Source']\n",
    "type_list = [list(non_totals.values),\n",
    "             [non_totals.str.split('-')[i][-1].strip().capitalize() for i in idx_list],\n",
    "             [non_totals.str.split('-')[i][0].strip().capitalize() for i in idx_list]]\n",
    "idx = pd.MultiIndex.from_arrays(type_list, names=['original', 'source', 'use'])\n",
    "len_columns = [len(emissions.columns)]\n",
    "#emissions_lvld = pd.DataFrame(emissions.iloc[idx_list,1:], index = idx)\n",
    "emissions_lvld = emissions.iloc[idx_list, 1:].copy()\n",
    "emissions_lvld.index = idx\n",
    "#emissions.iloc[idx_list,1:]\n",
    "#emissions_lvld\n",
    "emissions_lvld.loc[:, 'id'] = np.array(np.arange(len(emissions_lvld)))\n",
    "emissions_lvld.loc[:, 'source'] = type_list[1]\n",
    "emissions_lvld.loc[:, 'use'] = type_list[2]\n",
    "\n",
    "emissions_long = emissions_lvld.melt(col_level=0, id_vars=['id', 'source', 'use'], value_vars=year_str, var_name='year')\n",
    "\n",
    "#emissions_long = trunc_emissions.melt(col_level=0, id_vars=['id'], value_vars=year_str, var_name='year')\n",
    "emissions_long['id'] = emissions_long.index\n",
    "#emissions_long = emissions_long.melt(id_vars = ['id'], value_vars = 'Emission Source')\n",
    "emissions_long"
   ]
  },
  {
   "cell_type": "code",
   "execution_count": null,
   "metadata": {},
   "outputs": [],
   "source": [
    "len_data = len(emissions_long)\n",
    "interval = 8\n",
    "# link_data = np.array([[int(blah) for blah in np.linspace(0,len_data-interval,len_data-interval+1)], \n",
    "#                       [int(blah) for blah in np.linspace(interval,len_data,len_data-interval+1)],\n",
    "#                       emissions_long['value'].values[0:len_data-interval]]).T\n",
    "link_data = np.transpose([emissions_long['id'].values[0:len_data-interval],\n",
    "                          emissions_long['id'].values[interval:len_data],\n",
    "                          emissions_long['value'].values[interval:len_data]])\n",
    "link_df = pd.DataFrame(link_data, columns = ['source_id','target_id', 'strength'], dtype=object)\n",
    "link_df"
   ]
  },
  {
   "cell_type": "code",
   "execution_count": null,
   "metadata": {},
   "outputs": [],
   "source": [
    "emissions_long.to_csv('emissions_long.csv')\n",
    "link_df.to_csv('emissions_link.csv')"
   ]
  }
 ],
 "metadata": {
  "kernelspec": {
   "display_name": "Python 3",
   "language": "python",
   "name": "python3"
  },
  "language_info": {
   "codemirror_mode": {
    "name": "ipython",
    "version": 3
   },
   "file_extension": ".py",
   "mimetype": "text/x-python",
   "name": "python",
   "nbconvert_exporter": "python",
   "pygments_lexer": "ipython3",
   "version": "3.7.2"
  }
 },
 "nbformat": 4,
 "nbformat_minor": 2
}
